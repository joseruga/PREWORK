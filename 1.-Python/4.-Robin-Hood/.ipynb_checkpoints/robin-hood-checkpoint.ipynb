{
 "cells": [
  {
   "cell_type": "markdown",
   "metadata": {},
   "source": [
    "<img src=\"https://bit.ly/2VnXWr2\" width=\"100\" align=\"left\"/>"
   ]
  },
  {
   "cell_type": "markdown",
   "metadata": {},
   "source": [
    "# Robin Hood\n",
    "Robin Hood has entered a competition to win the archery contest in Sherwood. With his bow and arrows, he needs to shoot on a target and try to hit as close as possible to the center.\n",
    "\n",
    "![](images/arrows.jpg)\n",
    "\n",
    "## Context\n",
    "In this challenge, the landing position of arrows shot by archers in the competition will be represented using 2-dimensional coordinates. \n",
    "\n",
    "In the 2-dimensional space, a point can be defined by a pair of values that correspond to the horizontal coordinate (x) and the vertical coordinate (y). For example, in our case, an arrow that hits the center of the archery target will land in position (0, 0) on the coordinate axes. \n",
    "\n",
    "The space can be divided into 4 zones (quadrants): Q1, Q2, Q3, Q4. If a point is in Q1, both its x coordinate and y coordinate are positive. Any point with a null x or y coordinate is considered to not belong to any quadrant. \n",
    "\n",
    "If you want to know more about the cartesian coordinate system, you can check this [link](https://en.wikipedia.org/wiki/Cartesian_coordinate_system). \n",
    "\n",
    "## Tools\n",
    "You don't necessarily need to use all the tools. Maybe you opt to use some of them or completely different ones, they are given to help you shape the exercise. Programming exercises can be solved in many different ways.\n",
    "* Data structures: **lists, sets, tuples**\n",
    "* Conditional statements: **if-elif-else**\n",
    "* Loop: **while/for**\n",
    "* Minimum (optional sorting)\n",
    "\n",
    "## Tasks\n",
    "Robin Hood has hit the following points:"
   ]
  },
  {
   "cell_type": "code",
   "execution_count": 2,
   "metadata": {},
   "outputs": [],
   "source": [
    "points = [(4, 5), (-0, 2), (4, 7), (1, -3), (3, -2), (4, 5), (3, 2), (5, 7), (-5, 7), (2, 2), (-4, 5), (0, -2),\n",
    "          (-4, 7), (-1, 3), (-3, 2), (-4, -5), (-3, 2), (5, 7), (5, 7), (2, 2), (9, 9), (-8, -9)]"
   ]
  },
  {
   "cell_type": "markdown",
   "metadata": {},
   "source": [
    "#### 1. Robin Hood is famous for hitting an arrow with another arrow. Find the coordinates of the points where an arrow hits another arrow."
   ]
  },
  {
   "cell_type": "code",
   "execution_count": 2,
   "metadata": {},
   "outputs": [
    {
     "name": "stdout",
     "output_type": "stream",
     "text": [
      "The coordinate (5, 7) was hit 3 times\n",
      "The coordinate (4, 5) was hit 2 times\n",
      "The coordinate (2, 2) was hit 2 times\n",
      "The coordinate (-3, 2) was hit 2 times\n"
     ]
    }
   ],
   "source": [
    "for arrow in set(points):\n",
    "    if points.count(arrow)>1:\n",
    "        print('The coordinate '+str(arrow)+' was hit '+str(points.count(arrow))+' times')\n"
   ]
  },
  {
   "cell_type": "markdown",
   "metadata": {},
   "source": [
    "#### 2. Calculate how many arrows have fallen in each quadrant. \n",
    "**Note**: the arrows that fall in the axis (x=0 or y=0) don't belong to any quadrant."
   ]
  },
  {
   "cell_type": "code",
   "execution_count": 3,
   "metadata": {},
   "outputs": [
    {
     "name": "stdout",
     "output_type": "stream",
     "text": [
      "There are 10 arrows on quadrant I\n",
      "There are 6 arrows on quadrant II\n",
      "There are 2 arrows on quadrant III\n",
      "There are 2 arrows on quadrant IV\n",
      "There are 2 arrows out of any quadrant\n"
     ]
    }
   ],
   "source": [
    "Q1_arrows=0 \n",
    "Q2_arrows=0 \n",
    "Q3_arrows=0 \n",
    "Q4_arrows=0 \n",
    "noQ_arrows=0\n",
    "\n",
    "for arrow in points:\n",
    "    if (arrow[0]>0) and (arrow[1]>0):\n",
    "        Q1_arrows+=1\n",
    "    elif (arrow[0]<0) and (arrow[1]>0):\n",
    "        Q2_arrows+=1\n",
    "    elif (arrow[0]<0) and (arrow[1]<0):\n",
    "        Q3_arrows+=1\n",
    "    elif (arrow[0]>0) and (arrow[1]<0):\n",
    "        Q4_arrows+=1\n",
    "    else:\n",
    "        noQ_arrows+=1\n",
    "print('There are '+str(Q1_arrows)+' arrows on quadrant I')\n",
    "print('There are '+str(Q2_arrows)+' arrows on quadrant II')\n",
    "print('There are '+str(Q3_arrows)+' arrows on quadrant III')\n",
    "print('There are '+str(Q4_arrows)+' arrows on quadrant IV')\n",
    "print('There are '+str(noQ_arrows)+' arrows out of any quadrant')\n"
   ]
  },
  {
   "cell_type": "markdown",
   "metadata": {},
   "source": [
    "#### 3. Find the point closest to the center. Calculate its distance to the center. \n",
    "Take into account that there might be more than one point at the minimum distance to the center.\n",
    "\n",
    "**Hint**: Use the Euclidean distance. You can find more information about it [here](https://en.wikipedia.org/wiki/Euclidean_distance).  \n",
    "**Hint**: Defining a function that calculates the distance to the center can help."
   ]
  },
  {
   "cell_type": "code",
   "execution_count": 8,
   "metadata": {},
   "outputs": [
    {
     "name": "stdout",
     "output_type": "stream",
     "text": [
      "The closest arrows to the center are at a distance of 2.0 and they are on the coordinates: [(0, 2), (0, -2)]\n"
     ]
    }
   ],
   "source": [
    "distances=[]\n",
    "closest_arrows=[]\n",
    "def euclidean (point):\n",
    "    distance=(((0-point[0])**2+(0-point[1])**2)**0.5)\n",
    "    return distance\n",
    "for point in points:\n",
    "    distances.append(euclidean(point))\n",
    "closest_arrow=min(distances)\n",
    "\n",
    "for i, distance in enumerate(distances):\n",
    "    if distance == 2.0:\n",
    "        closest_arrows.append(points[i])\n",
    "\n",
    "print('The closest arrows to the center are at a distance of '+str(closest_arrow)+' and they are on the coordinates: '+str(closest_arrows))\n"
   ]
  },
  {
   "cell_type": "markdown",
   "metadata": {},
   "source": [
    "#### 4. If the archery target has a radius of 9, calculate the number of arrows that won't hit the target. \n",
    "**Hint**: Use the function created in step 3. "
   ]
  },
  {
   "cell_type": "code",
   "execution_count": 20,
   "metadata": {},
   "outputs": [
    {
     "name": "stdout",
     "output_type": "stream",
     "text": [
      "There are 2 arrows out of the target in the coordinates [(9, 9), (-8, -9)]\n"
     ]
    }
   ],
   "source": [
    "missed_points=[]\n",
    "for point in points:\n",
    "    if euclidean(point)>=9:\n",
    "        missed_points.append(point)\n",
    "print('There are '+str(len(missed_points))+' arrows out of the target in the coordinates '+str(missed_points))"
   ]
  }
 ],
 "metadata": {
  "kernelspec": {
   "display_name": "Python 3",
   "language": "python",
   "name": "python3"
  },
  "language_info": {
   "codemirror_mode": {
    "name": "ipython",
    "version": 3
   },
   "file_extension": ".py",
   "mimetype": "text/x-python",
   "name": "python",
   "nbconvert_exporter": "python",
   "pygments_lexer": "ipython3",
   "version": "3.8.3"
  }
 },
 "nbformat": 4,
 "nbformat_minor": 2
}
