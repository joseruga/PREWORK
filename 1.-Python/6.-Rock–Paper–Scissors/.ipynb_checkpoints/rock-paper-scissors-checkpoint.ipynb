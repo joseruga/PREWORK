{
 "cells": [
  {
   "cell_type": "markdown",
   "metadata": {},
   "source": [
    "<img src=\"https://bit.ly/2VnXWr2\" width=\"100\" align=\"left\">"
   ]
  },
  {
   "cell_type": "markdown",
   "metadata": {},
   "source": [
    "# Rock, Paper & Scissors\n",
    "\n",
    "Let's play the famous game against our computer. You can check the rules [here](https://en.wikipedia.org/wiki/Rock%E2%80%93paper%E2%80%93scissors). \n",
    "\n",
    "## Task\n",
    "Create a program that imitates the playability of the well known game of rock, paper, scissors. Follow the guidelines provided.\n",
    "\n",
    "## Tools\n",
    "1. Loop: **for/while**\n",
    "2. Functions: **input(), print()...**\n",
    "3. Conditional statements: **if, elif, else**\n",
    "4. Definition of functions. Modular programming\n",
    "5. Import modules\n",
    "\n",
    "**To solve this challenge, the use of functions is recommended.**\n",
    "\n",
    "#### 1. Import the choice function of the random module."
   ]
  },
  {
   "cell_type": "code",
   "execution_count": null,
   "metadata": {
    "scrolled": true
   },
   "outputs": [],
   "source": [
    "import random"
   ]
  },
  {
   "cell_type": "markdown",
   "metadata": {},
   "source": [
    "#### 2. Create a list that includes the 3 possible gesture options of the game: 'rock', 'paper' or 'scissors'. Store the list in a variable called `gestures`."
   ]
  },
  {
   "cell_type": "code",
   "execution_count": null,
   "metadata": {
    "scrolled": true
   },
   "outputs": [],
   "source": [
    "gestures=['rock','paper','scissors']"
   ]
  },
  {
   "cell_type": "markdown",
   "metadata": {},
   "source": [
    "#### 3. Create a variable called `n_rounds` to store the maximum number of rounds to play in a game. \n",
    "Remember that the number of rounds must be odd: 1, 3, 5, ..."
   ]
  },
  {
   "cell_type": "code",
   "execution_count": null,
   "metadata": {
    "scrolled": true
   },
   "outputs": [],
   "source": [
    "n_rounds=3"
   ]
  },
  {
   "cell_type": "markdown",
   "metadata": {},
   "source": [
    "#### 4. Create a variable called `rounds_to_win` to store the number of rounds that a player must win to win the game.\n",
    "**Hint**: the value stored in `rounds_to_win` depends on the value of `n_rounds`. "
   ]
  },
  {
   "cell_type": "code",
   "execution_count": null,
   "metadata": {
    "scrolled": true
   },
   "outputs": [],
   "source": [
    "rounds_to_win=2"
   ]
  },
  {
   "cell_type": "markdown",
   "metadata": {},
   "source": [
    "#### 5. Create two variables to store the number of rounds that the computer and the player have won. Call these variables `cpu_score` and `player_score`."
   ]
  },
  {
   "cell_type": "code",
   "execution_count": null,
   "metadata": {
    "scrolled": true
   },
   "outputs": [],
   "source": [
    "cpu_score=0\n",
    "player_score=0"
   ]
  },
  {
   "cell_type": "markdown",
   "metadata": {},
   "source": [
    "#### 6. Define a function that randomly returns one of the 3 gesture options.\n",
    "You will use this function to simulate the gesture choice of the computer. "
   ]
  },
  {
   "cell_type": "code",
   "execution_count": null,
   "metadata": {
    "scrolled": true
   },
   "outputs": [],
   "source": [
    "def rps_cpu ():\n",
    "    cpu_choice=random.choice(gestures)\n",
    "    return cpu_choice"
   ]
  },
  {
   "cell_type": "markdown",
   "metadata": {},
   "source": [
    "#### 7. Define a function that asks the player which is the gesture he or she wants to show: 'rock', 'paper' or 'scissors'.\n",
    "The player should only be allowed to choose one of the 3 gesture options. If the player's choice is not rock, paper or scissors, keep asking until it is."
   ]
  },
  {
   "cell_type": "code",
   "execution_count": null,
   "metadata": {
    "scrolled": true
   },
   "outputs": [],
   "source": [
    "def rps_user():\n",
    "    user_choice=input(\"Select your gesture among rock, paper or scissors\").lower()\n",
    "    while user_choice not in gestures:    \n",
    "        user_choice=input(\"Gesture not available\\nPlease select your weapon only among rock, paper or scissors\")\n",
    "    return user_choice"
   ]
  },
  {
   "cell_type": "markdown",
   "metadata": {},
   "source": [
    "#### 8. Define a function that checks who won a round. \n",
    "The function should return 0 if there is a tie, 1 if the computer wins and 2 if the player wins."
   ]
  },
  {
   "cell_type": "code",
   "execution_count": null,
   "metadata": {
    "scrolled": true
   },
   "outputs": [],
   "source": [
    "def roun (cpu_choice,user_choice):\n",
    "    result=0\n",
    "    if cpu_choice == user_choice:\n",
    "        result+=0\n",
    "    elif (cpu_choice=='rock') and (user_choice=='scissors'):\n",
    "        result+=1\n",
    "    elif (cpu_choice=='paper') and (user_choice=='rock'):\n",
    "        result+=1\n",
    "    elif (cpu_choice=='scissors') and (user_choice=='paper'):\n",
    "        result+=1\n",
    "    elif (user_choice=='rock') and (cpu_choice=='scissors'):\n",
    "        result+=2\n",
    "    elif (user_choice=='paper') and (cpu_choice=='rock'):\n",
    "        result+=2\n",
    "    elif (user_choice=='scissors') and (cpu_choice=='paper'):\n",
    "        result+=2\n",
    "    return result"
   ]
  },
  {
   "cell_type": "markdown",
   "metadata": {},
   "source": [
    "#### 9. Define a function that prints the choice of the computer, the choice of the player and a message that announces who won the current round. \n",
    "You should also use this function to update the variables that count the number of rounds that the computer and the player have won. The score of the winner increases by one point. If there is a tie, the score does not increase."
   ]
  },
  {
   "cell_type": "code",
   "execution_count": null,
   "metadata": {
    "scrolled": true
   },
   "outputs": [],
   "source": [
    "def roun_score (cpu_choice,user_choice,roun):\n",
    "    cpu_score=0\n",
    "    user_score=0\n",
    "    print('The computer picked '+cpu_choice)\n",
    "    print('The user picked '+user_choice)\n",
    "    if roun == 0:\n",
    "        print('It is a tie')\n",
    "    elif roun == 1:\n",
    "        print('Computer wins this round')\n",
    "        cpu_score+=1\n",
    "    elif roun == 2:\n",
    "        print('User wins this round')\n",
    "        user_score+=1\n",
    "    return cpu_score, user_score"
   ]
  },
  {
   "cell_type": "markdown",
   "metadata": {},
   "source": [
    "#### 10. Now it's time to code the execution of the game using the functions and variables you defined above. \n",
    "\n",
    "First, create a loop structure that repeats while no player reaches the minimum score necessary to win and the number of rounds is less than the maximum number of rounds to play in a game.  \n",
    "\n",
    "Inside the loop, use the functions and variables above to create the execution of a round: ask for the player's choice, generate the random choice of the computer, show the round results, update the scores, etc. "
   ]
  },
  {
   "cell_type": "code",
   "execution_count": null,
   "metadata": {
    "scrolled": true
   },
   "outputs": [],
   "source": [
    "rounds_played=0\n",
    "cpu_score=0\n",
    "player_score=0\n",
    "while (cpu_score < rounds_to_win) and (player_score < rounds_to_win) and (rounds_played < n_rounds):\n",
    "    print(\"Welcome to round \"+str(rounds_played+1))\n",
    "    cpu_choice_r=rps_cpu()\n",
    "    user_choice_r=rps_user()\n",
    "    roun_r=roun(cpu_choice_r,user_choice_r)\n",
    "    roun_score_r=roun_score(cpu_choice_r,user_choice_r,roun_r)\n",
    "    cpu_score+=roun_score_r[0]\n",
    "    player_score+=roun_score_r[1]\n",
    "    print(\"You have played \"+str(rounds_played+1)+\" out of \"+str(n_rounds)+\" rounds.\")\n",
    "    print(\"The current score is:\\n\"+\"Computer: \"+str(cpu_score)+\"\\nUser: \"+str(player_score))\n",
    "    rounds_played+=1"
   ]
  },
  {
   "cell_type": "markdown",
   "metadata": {},
   "source": [
    "#### 11. Print the winner of the game based on who won more rounds.\n",
    "Remember that the game might be tied. "
   ]
  },
  {
   "cell_type": "code",
   "execution_count": null,
   "metadata": {
    "scrolled": true
   },
   "outputs": [],
   "source": [
    "if cpu_score > player_score:\n",
    "    print (\"The computer won this game.\")\n",
    "elif player_score > cpu_score:\n",
    "    print(\"The user won this game.\")\n",
    "elif player_score == cpu_score:\n",
    "    print(\"The game ended up in a tie.\")"
   ]
  },
  {
   "cell_type": "markdown",
   "metadata": {},
   "source": [
    "# Bonus: Rock, Paper, Scissors, Lizard & Spock\n",
    "![](images/rpsls.jpg)\n",
    "\n",
    "In this challenge, you need to improve the previous game by adding two new options. To know more about the rules of the improved version of rock, paper, scissors, check this [link](http://www.samkass.com/theories/RPSSL.html). \n",
    "\n",
    "In addition, you will also need to improve how the game interacts with the player: the number of rounds to play, which must be an odd number, will be requested to the user until a valid number is entered. Define a new function to make that request.\n",
    "\n",
    "**Hint**: Try to reuse the code that you already coded in the previous challenge. If your code is efficient, this bonus will only consist of simple modifications to the original game."
   ]
  },
  {
   "cell_type": "code",
   "execution_count": null,
   "metadata": {
    "scrolled": true
   },
   "outputs": [],
   "source": [
    "#Define new functions and variables\n",
    "#Define new gestures\n",
    "gestures_bonus=['rock','paper','scissors','lizard','spock']\n",
    "\n",
    "#Define random choice fuction with new gestures\n",
    "def rps_cpu_bonus ():\n",
    "    cpu_choice_bonus=random.choice(gestures_bonus)\n",
    "    return cpu_choice_bonus\n",
    "\n",
    "#Create function for the user to pick up a gesture from the new gestures\n",
    "def rps_user_bonus():\n",
    "    user_choice_bonus=input(\"Select your gesture among rock, paper, scissors, lizard or spock\").lower()\n",
    "    while user_choice_bonus not in gestures_bonus:    \n",
    "        user_choice_bonus=input(\"Gesture not available\\nPlease select your weapon only among rock, paper, scissors, lizard or spock\")\n",
    "    return user_choice_bonus\n",
    "\n",
    "#Create function to see who won a round with the new rules\n",
    "def roun_bonus (cpu_choice,user_choice):\n",
    "    result=0\n",
    "    if cpu_choice == user_choice:\n",
    "        result+=0\n",
    "    elif (cpu_choice=='rock') and ((user_choice=='scissors') or (user_choice=='lizard')):\n",
    "        result+=1\n",
    "    elif (cpu_choice=='paper') and ((user_choice=='rock') or (user_choice=='spock')):\n",
    "        result+=1\n",
    "    elif (cpu_choice=='scissors') and ((user_choice=='paper') or (user_choice=='lizard')):\n",
    "        result+=1\n",
    "    elif (cpu_choice=='spock') and ((user_choice=='scissors') or (user_choice=='rock')):\n",
    "        result+=1\n",
    "    elif (cpu_choice=='lizard') and ((user_choice=='spock') or (user_choice=='paper')):\n",
    "        result+=1\n",
    "    elif (user_choice=='rock') and ((cpu_choice=='scissors') or (cpu_choice=='lizard')):\n",
    "        result+=2\n",
    "    elif (user_choice=='paper') and ((cpu_choice=='rock') or (cpu_choice=='spock')):\n",
    "        result+=2\n",
    "    elif (user_choice=='scissors') and ((cpu_choice=='paper') or (cpu_choice=='lizard')):\n",
    "        result+=2\n",
    "    elif (user_choice=='spock') and ((cpu_choice=='scissors') or (cpu_choice=='rock')):\n",
    "        result+=2\n",
    "    elif (user_choice=='lizard') and ((cpu_choice=='spock') or (cpu_choice=='paper')):\n",
    "        result+=2\n",
    "    return result\n",
    "\n",
    "#Create function to determine number of rounds\n",
    "def n_rounds_choice():\n",
    "    n_rounds_bonus=float(input(\"Select the number of rounds to play, it must be an odd integer number\"))\n",
    "    while n_rounds_bonus % 2 == 0:    \n",
    "        n_rounds_bonus=float(input(\"Invalid number \\nPlease select an odd integer number\"))\n",
    "    return n_rounds_bonus\n",
    "\n",
    "#Function roun_score still works without need of modifications\n",
    "\n",
    "#New program\n",
    "rounds_played=0\n",
    "cpu_score=0\n",
    "player_score=0\n",
    "n_rounds_b=n_rounds_choice()\n",
    "rounds_to_win_b=n_rounds_b/2+1\n",
    "while (cpu_score < rounds_to_win_b) and (player_score < rounds_to_win_b) and (rounds_played < n_rounds_b):\n",
    "    print(\"Welcome to round \"+str(rounds_played+1))\n",
    "    cpu_choice_rb=rps_cpu_bonus()\n",
    "    user_choice_rb=rps_user_bonus()\n",
    "    roun_r=roun_bonus(cpu_choice_rb,user_choice_rb)\n",
    "    roun_score_r=roun_score(cpu_choice_rb,user_choice_rb,roun_r)\n",
    "    cpu_score+=roun_score_r[0]\n",
    "    player_score+=roun_score_r[1]\n",
    "    print(\"You have played \"+str(rounds_played+1)+\" out of \"+str(n_rounds_b)+\" rounds.\")\n",
    "    print(\"The current score is:\\n\"+\"Computer: \"+str(cpu_score)+\"\\nUser: \"+str(player_score))\n",
    "    rounds_played+=1\n",
    "    \n",
    "#Print the game's result\n",
    "if cpu_score > player_score:\n",
    "    print (\"The computer won this game.\")\n",
    "elif player_score > cpu_score:\n",
    "    print(\"The user won this game.\")\n",
    "elif player_score == cpu_score:\n",
    "    print(\"The game ended up in a tie.\")"
   ]
  }
 ],
 "metadata": {
  "kernelspec": {
   "display_name": "Python 3",
   "language": "python",
   "name": "python3"
  },
  "language_info": {
   "codemirror_mode": {
    "name": "ipython",
    "version": 3
   },
   "file_extension": ".py",
   "mimetype": "text/x-python",
   "name": "python",
   "nbconvert_exporter": "python",
   "pygments_lexer": "ipython3",
   "version": "3.8.3"
  }
 },
 "nbformat": 4,
 "nbformat_minor": 2
}
